{
 "cells": [
  {
   "cell_type": "code",
   "execution_count": null,
   "id": "842fc37e-ec69-41ed-a02e-f57d6659acf2",
   "metadata": {},
   "outputs": [],
   "source": []
  }
 ],
 "metadata": {
  "kernelspec": {
   "display_name": "",
   "name": ""
  },
  "language_info": {
   "name": ""
  }
 },
 "nbformat": 4,
 "nbformat_minor": 5
}
