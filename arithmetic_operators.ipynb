{
 "cells": [
  {
   "metadata": {},
   "cell_type": "markdown",
   "source": "## Arithmetic Operators",
   "id": "a4f38399522c540c"
  },
  {
   "metadata": {
    "ExecuteTime": {
     "end_time": "2024-09-10T10:01:52.773825Z",
     "start_time": "2024-09-10T10:01:52.768233Z"
    }
   },
   "cell_type": "code",
   "source": "1 + 0.5",
   "id": "a691f7631ef16251",
   "outputs": [
    {
     "data": {
      "text/plain": [
       "1.5"
      ]
     },
     "execution_count": 5,
     "metadata": {},
     "output_type": "execute_result"
    }
   ],
   "execution_count": 5
  },
  {
   "metadata": {
    "ExecuteTime": {
     "end_time": "2024-09-10T10:01:52.885139Z",
     "start_time": "2024-09-10T10:01:52.881241Z"
    }
   },
   "cell_type": "code",
   "source": "2 * 1.125",
   "id": "a7a3a3d756491f5b",
   "outputs": [
    {
     "data": {
      "text/plain": [
       "2.25"
      ]
     },
     "execution_count": 6,
     "metadata": {},
     "output_type": "execute_result"
    }
   ],
   "execution_count": 6
  },
  {
   "metadata": {
    "ExecuteTime": {
     "end_time": "2024-09-10T10:01:53.072908Z",
     "start_time": "2024-09-10T10:01:53.069205Z"
    }
   },
   "cell_type": "code",
   "source": "18 / 4",
   "id": "3b0f57f44ce4fc3f",
   "outputs": [
    {
     "data": {
      "text/plain": [
       "4.5"
      ]
     },
     "execution_count": 7,
     "metadata": {},
     "output_type": "execute_result"
    }
   ],
   "execution_count": 7
  },
  {
   "metadata": {},
   "cell_type": "markdown",
   "source": "",
   "id": "790040526dc03b55"
  },
  {
   "metadata": {
    "ExecuteTime": {
     "end_time": "2024-09-10T10:02:10.839704Z",
     "start_time": "2024-09-10T10:02:10.836169Z"
    }
   },
   "cell_type": "code",
   "source": "2 ** 8",
   "id": "d01eb3e7f6f7183",
   "outputs": [
    {
     "data": {
      "text/plain": [
       "256"
      ]
     },
     "execution_count": 8,
     "metadata": {},
     "output_type": "execute_result"
    }
   ],
   "execution_count": 8
  },
  {
   "metadata": {
    "ExecuteTime": {
     "end_time": "2024-09-10T10:02:36.755096Z",
     "start_time": "2024-09-10T10:02:36.748550Z"
    }
   },
   "cell_type": "code",
   "source": "2 ** (-8)",
   "id": "1070f78d40daa3b7",
   "outputs": [
    {
     "data": {
      "text/plain": [
       "0.00390625"
      ]
     },
     "execution_count": 9,
     "metadata": {},
     "output_type": "execute_result"
    }
   ],
   "execution_count": 9
  },
  {
   "metadata": {
    "ExecuteTime": {
     "end_time": "2024-09-10T10:03:24.237915Z",
     "start_time": "2024-09-10T10:03:24.234449Z"
    }
   },
   "cell_type": "code",
   "source": "4.0 ** 0.5",
   "id": "f9b7272d43653d2b",
   "outputs": [
    {
     "data": {
      "text/plain": [
       "2.0"
      ]
     },
     "execution_count": 10,
     "metadata": {},
     "output_type": "execute_result"
    }
   ],
   "execution_count": 10
  },
  {
   "metadata": {
    "ExecuteTime": {
     "end_time": "2024-09-10T10:05:07.229154Z",
     "start_time": "2024-09-10T10:05:07.223204Z"
    }
   },
   "cell_type": "code",
   "source": "type(2)",
   "id": "97ef3f02ae3c175",
   "outputs": [
    {
     "data": {
      "text/plain": [
       "int"
      ]
     },
     "execution_count": 11,
     "metadata": {},
     "output_type": "execute_result"
    }
   ],
   "execution_count": 11
  },
  {
   "metadata": {
    "ExecuteTime": {
     "end_time": "2024-09-11T00:23:16.851773Z",
     "start_time": "2024-09-11T00:23:16.843311Z"
    }
   },
   "cell_type": "code",
   "source": "type(3.0)",
   "id": "47ba16f670a05be",
   "outputs": [
    {
     "data": {
      "text/plain": [
       "float"
      ]
     },
     "execution_count": 1,
     "metadata": {},
     "output_type": "execute_result"
    }
   ],
   "execution_count": 1
  },
  {
   "metadata": {},
   "cell_type": "code",
   "outputs": [],
   "execution_count": null,
   "source": "",
   "id": "1f18ed0d7fcdfb28"
  }
 ],
 "metadata": {
  "kernelspec": {
   "display_name": "Python 3",
   "language": "python",
   "name": "python3"
  },
  "language_info": {
   "codemirror_mode": {
    "name": "ipython",
    "version": 2
   },
   "file_extension": ".py",
   "mimetype": "text/x-python",
   "name": "python",
   "nbconvert_exporter": "python",
   "pygments_lexer": "ipython2",
   "version": "2.7.6"
  }
 },
 "nbformat": 4,
 "nbformat_minor": 5
}
