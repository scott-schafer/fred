{
 "cells": [
  {
   "metadata": {},
   "cell_type": "markdown",
   "source": "### Integer Division and Modulus",
   "id": "eac1cfe195f25285"
  },
  {
   "metadata": {
    "ExecuteTime": {
     "end_time": "2024-09-14T11:12:44.651347Z",
     "start_time": "2024-09-14T11:12:44.634563Z"
    }
   },
   "cell_type": "code",
   "source": [
    "a = 10\n",
    "b = 3"
   ],
   "id": "67a8fdef59572640",
   "outputs": [],
   "execution_count": 1
  },
  {
   "metadata": {
    "ExecuteTime": {
     "end_time": "2024-09-14T11:13:00.407854Z",
     "start_time": "2024-09-14T11:13:00.402083Z"
    }
   },
   "cell_type": "code",
   "source": "a / b",
   "id": "e2bf97f2f5efdcb8",
   "outputs": [
    {
     "data": {
      "text/plain": [
       "3.3333333333333335"
      ]
     },
     "execution_count": 2,
     "metadata": {},
     "output_type": "execute_result"
    }
   ],
   "execution_count": 2
  },
  {
   "metadata": {},
   "cell_type": "code",
   "outputs": [],
   "execution_count": null,
   "source": "",
   "id": "c005384a63029fc"
  }
 ],
 "metadata": {
  "kernelspec": {
   "display_name": "Python 3",
   "language": "python",
   "name": "python3"
  },
  "language_info": {
   "codemirror_mode": {
    "name": "ipython",
    "version": 2
   },
   "file_extension": ".py",
   "mimetype": "text/x-python",
   "name": "python",
   "nbconvert_exporter": "python",
   "pygments_lexer": "ipython2",
   "version": "2.7.6"
  }
 },
 "nbformat": 4,
 "nbformat_minor": 5
}
