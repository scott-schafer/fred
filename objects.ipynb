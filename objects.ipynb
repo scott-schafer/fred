{
 "cells": [
  {
   "cell_type": "markdown",
   "id": "3a27c380-030e-4af0-8b4f-446c8408cc61",
   "metadata": {},
   "source": [
    "Objects"
   ]
  },
  {
   "cell_type": "code",
   "id": "85564b98-b49a-485a-9972-d4a9818ca79d",
   "metadata": {
    "ExecuteTime": {
     "end_time": "2024-09-08T15:28:23.628377Z",
     "start_time": "2024-09-08T15:28:23.611153Z"
    }
   },
   "source": [
    "class Account:\n",
    "    def __init__(self, account_number, account_type, initial_balance):\n",
    "        self.account_number = account_number\n",
    "        self.account_type = account_type\n",
    "        self.balance = initial_balance\n",
    "        \n",
    "    def deposit(self, amount):\n",
    "        # should also check that amount is a numerical value!\n",
    "        if amount > 0:\n",
    "            self.balance = self.balance + amount\n",
    "            print(f'Deposited {amount}')\n",
    "            print(f'New balance is: {self.balance}')\n",
    "        else:\n",
    "            print(f'{amount} is an invalid amount.')\n",
    "            \n",
    "    def withdraw(self, amount):\n",
    "        # should also check that amount is a numerical value!\n",
    "        if amount > 0 and amount <= self.balance:\n",
    "            self.balance = self.balance - amount\n",
    "            print(f'Withdrawal: {amount}')\n",
    "            print(f'New Balance: {self.balance}')\n",
    "        else:\n",
    "            if amount < 0:\n",
    "                print(f'{amount} is an invalid amount')\n",
    "            else:\n",
    "                print('Insufficient funds.')\n",
    "                print(f'Current balance is {self.balance}')"
   ],
   "outputs": [],
   "execution_count": 5
  },
  {
   "cell_type": "code",
   "id": "2266de5c-ede3-4a66-8e21-5ff2aad2feb9",
   "metadata": {
    "ExecuteTime": {
     "end_time": "2024-09-08T15:28:23.677082Z",
     "start_time": "2024-09-08T15:28:23.674544Z"
    }
   },
   "source": "my_account = Account('123-456', 'savings', 1_000.00);\n",
   "outputs": [],
   "execution_count": 6
  },
  {
   "metadata": {
    "ExecuteTime": {
     "end_time": "2024-09-08T15:30:42.128283Z",
     "start_time": "2024-09-08T15:30:42.115204Z"
    }
   },
   "cell_type": "code",
   "source": "my_account.account_number",
   "id": "4c893babad37b42f",
   "outputs": [
    {
     "data": {
      "text/plain": [
       "'123-456'"
      ]
     },
     "execution_count": 7,
     "metadata": {},
     "output_type": "execute_result"
    }
   ],
   "execution_count": 7
  },
  {
   "metadata": {
    "ExecuteTime": {
     "end_time": "2024-09-08T15:31:27.384389Z",
     "start_time": "2024-09-08T15:31:27.371006Z"
    }
   },
   "cell_type": "code",
   "source": "my_account.account_type",
   "id": "fc465e4b7351f92b",
   "outputs": [
    {
     "data": {
      "text/plain": [
       "'savings'"
      ]
     },
     "execution_count": 8,
     "metadata": {},
     "output_type": "execute_result"
    }
   ],
   "execution_count": 8
  },
  {
   "metadata": {
    "ExecuteTime": {
     "end_time": "2024-09-08T15:31:50.301564Z",
     "start_time": "2024-09-08T15:31:50.287675Z"
    }
   },
   "cell_type": "code",
   "source": "my_account.balance",
   "id": "baa2d3280ae53038",
   "outputs": [
    {
     "data": {
      "text/plain": [
       "1000.0"
      ]
     },
     "execution_count": 9,
     "metadata": {},
     "output_type": "execute_result"
    }
   ],
   "execution_count": 9
  },
  {
   "metadata": {
    "ExecuteTime": {
     "end_time": "2024-09-08T15:36:49.195186Z",
     "start_time": "2024-09-08T15:36:49.188628Z"
    }
   },
   "cell_type": "code",
   "source": "my_account.deposit(100)",
   "id": "b46efc263f6bc333",
   "outputs": [
    {
     "name": "stdout",
     "output_type": "stream",
     "text": [
      "Deposited 100\n",
      "New balance is: 1100.0\n"
     ]
    }
   ],
   "execution_count": 10
  },
  {
   "metadata": {
    "ExecuteTime": {
     "end_time": "2024-09-08T15:37:11.849328Z",
     "start_time": "2024-09-08T15:37:11.845913Z"
    }
   },
   "cell_type": "code",
   "source": "my_account.balance",
   "id": "6437381fedcf8355",
   "outputs": [
    {
     "data": {
      "text/plain": [
       "1100.0"
      ]
     },
     "execution_count": 11,
     "metadata": {},
     "output_type": "execute_result"
    }
   ],
   "execution_count": 11
  },
  {
   "metadata": {
    "ExecuteTime": {
     "end_time": "2024-09-08T15:41:22.542089Z",
     "start_time": "2024-09-08T15:41:22.531841Z"
    }
   },
   "cell_type": "code",
   "source": "my_account.withdraw(500)",
   "id": "477f124fe7bf6a37",
   "outputs": [
    {
     "name": "stdout",
     "output_type": "stream",
     "text": [
      "Withdrawal: 500\n",
      "New Balance: 600.0\n"
     ]
    }
   ],
   "execution_count": 12
  },
  {
   "metadata": {
    "ExecuteTime": {
     "end_time": "2024-09-08T15:41:42.347365Z",
     "start_time": "2024-09-08T15:41:42.339060Z"
    }
   },
   "cell_type": "code",
   "source": "my_account.withdraw(700)",
   "id": "5a7cf73e3339db7c",
   "outputs": [
    {
     "name": "stdout",
     "output_type": "stream",
     "text": [
      "Insufficient funds.\n",
      "Current balance is 600.0\n"
     ]
    }
   ],
   "execution_count": 13
  },
  {
   "metadata": {
    "ExecuteTime": {
     "end_time": "2024-09-08T15:42:11.375899Z",
     "start_time": "2024-09-08T15:42:11.363045Z"
    }
   },
   "cell_type": "code",
   "source": "my_account.deposit(500)",
   "id": "ea928af049ff7061",
   "outputs": [
    {
     "name": "stdout",
     "output_type": "stream",
     "text": [
      "Deposited 500\n",
      "New balance is: 1100.0\n"
     ]
    }
   ],
   "execution_count": 14
  },
  {
   "metadata": {},
   "cell_type": "code",
   "outputs": [],
   "execution_count": null,
   "source": "",
   "id": "301698c4b9abe280"
  },
  {
   "metadata": {
    "ExecuteTime": {
     "end_time": "2024-09-08T15:50:31.909565Z",
     "start_time": "2024-09-08T15:50:31.905721Z"
    }
   },
   "cell_type": "code",
   "source": "10 + 25",
   "id": "a8854e5ea203c0b8",
   "outputs": [
    {
     "data": {
      "text/plain": [
       "35"
      ]
     },
     "execution_count": 23,
     "metadata": {},
     "output_type": "execute_result"
    }
   ],
   "execution_count": 23
  },
  {
   "metadata": {
    "ExecuteTime": {
     "end_time": "2024-09-08T15:50:56.707779Z",
     "start_time": "2024-09-08T15:50:56.693683Z"
    }
   },
   "cell_type": "code",
   "source": "0.125.as_integer_ratio()",
   "id": "59b6a4d3510c5f34",
   "outputs": [
    {
     "data": {
      "text/plain": [
       "(1, 8)"
      ]
     },
     "execution_count": 24,
     "metadata": {},
     "output_type": "execute_result"
    }
   ],
   "execution_count": 24
  },
  {
   "metadata": {},
   "cell_type": "code",
   "outputs": [],
   "execution_count": null,
   "source": "",
   "id": "d44e45cde9d8f6a4"
  }
 ],
 "metadata": {
  "kernelspec": {
   "display_name": "Python 3 (ipykernel)",
   "language": "python",
   "name": "python3"
  },
  "language_info": {
   "codemirror_mode": {
    "name": "ipython",
    "version": 3
   },
   "file_extension": ".py",
   "mimetype": "text/x-python",
   "name": "python",
   "nbconvert_exporter": "python",
   "pygments_lexer": "ipython3",
   "version": "3.9.6"
  }
 },
 "nbformat": 4,
 "nbformat_minor": 5
}
